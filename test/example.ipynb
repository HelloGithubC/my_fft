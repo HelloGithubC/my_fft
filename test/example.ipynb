{
 "cells": [
  {
   "cell_type": "code",
   "execution_count": 1,
   "metadata": {},
   "outputs": [],
   "source": [
    "import numpy as np \n",
    "from my_fft import FFTPower, Mesh "
   ]
  },
  {
   "cell_type": "markdown",
   "metadata": {},
   "source": [
    "### Load Data "
   ]
  },
  {
   "cell_type": "code",
   "execution_count": 11,
   "metadata": {},
   "outputs": [
    {
     "name": "stdout",
     "output_type": "stream",
     "text": [
      "(100000,)\n",
      "[('Position', '<f8', (3,)), ('Weight', '<f8')]\n"
     ]
    }
   ],
   "source": [
    "data = np.load(\"test_data.pkl.npy\")\n",
    "print(data.shape)\n",
    "print(data.dtype)"
   ]
  },
  {
   "cell_type": "markdown",
   "metadata": {},
   "source": [
    "### Do cic and FFT with compensating filter"
   ]
  },
  {
   "cell_type": "code",
   "execution_count": 3,
   "metadata": {},
   "outputs": [],
   "source": [
    "mesh = Mesh(Nmesh=100, BoxSize=1000.0)\n",
    "cic_mesh = mesh.run_cic(data, weight=\"Weight\", norm=False, nthreads=3) # For PS of overdensity, you can set norm=True\n",
    "mesh_complex = mesh.r2c(cic_mesh, compensated=True, nthreads=2)"
   ]
  },
  {
   "cell_type": "code",
   "execution_count": 6,
   "metadata": {},
   "outputs": [
    {
     "data": {
      "text/plain": [
       "{'Nmesh': array([100, 100, 100], dtype=int32),\n",
       " 'BoxSize': array([1000., 1000., 1000.]),\n",
       " 'N': 100000,\n",
       " 'W': 49926.69584217917,\n",
       " 'W2': 33220.87005622538,\n",
       " 'shotnoise': 13327.39752263791,\n",
       " 'num_per_cell': 0.049926695842179174,\n",
       " 'compensated': True}"
      ]
     },
     "execution_count": 6,
     "metadata": {},
     "output_type": "execute_result"
    }
   ],
   "source": [
    "mesh.attrs"
   ]
  },
  {
   "cell_type": "markdown",
   "metadata": {},
   "source": [
    "### Calculate FFTPower with 1d(Pk) and 2d(Pkmu)"
   ]
  },
  {
   "cell_type": "code",
   "execution_count": null,
   "metadata": {},
   "outputs": [],
   "source": [
    "fftpower = FFTPower(Nmesh=100, BoxSize=1000.0, shotnoise=mesh.attrs[\"shotnoise\"]) # Nmesh and BoxSize you need keep the same as Mesh you used\n",
    "power = fftpower.run(mesh_complex, kmin=0.1, kmax=0.5, dk=0.02, mode=\"1d\", nthreads=2, Nmu=5, do_conj=True) # mode can be 1d and 2d. do_conj should be set True at once. If you run fftpower on the same complex field, you must set do_conj=False"
   ]
  },
  {
   "cell_type": "code",
   "execution_count": 9,
   "metadata": {},
   "outputs": [],
   "source": [
    "# You can save and load fftpower with methods: save and load. Note that \"load\" is a class method.\n",
    "fftpower.save(\"test_power_1D.pkl\")\n",
    "# fftpower = FFTPower.load(\"test_power_1D.pkl\")"
   ]
  },
  {
   "cell_type": "code",
   "execution_count": 10,
   "metadata": {},
   "outputs": [
    {
     "data": {
      "text/plain": [
       "{'k': array([[0.11047959],\n",
       "        [0.13039597],\n",
       "        [0.15035091],\n",
       "        [0.17029544],\n",
       "        [0.19030801],\n",
       "        [0.21025408],\n",
       "        [0.23026851],\n",
       "        [0.2502804 ],\n",
       "        [0.27018771],\n",
       "        [0.29016786],\n",
       "        [0.3100864 ],\n",
       "        [0.32979701],\n",
       "        [0.34980636],\n",
       "        [0.36978027],\n",
       "        [0.38967588],\n",
       "        [0.40951468],\n",
       "        [0.42928825],\n",
       "        [0.44894592],\n",
       "        [0.46904253]]),\n",
       " 'Pk': array([[33.23062651+0.j],\n",
       "        [33.09789988+0.j],\n",
       "        [33.23244394+0.j],\n",
       "        [32.89105631+0.j],\n",
       "        [33.24854716+0.j],\n",
       "        [33.2479364 +0.j],\n",
       "        [33.50166451+0.j],\n",
       "        [33.10905707+0.j],\n",
       "        [32.89698499+0.j],\n",
       "        [33.10298627+0.j],\n",
       "        [33.28094686+0.j],\n",
       "        [33.15231081+0.j],\n",
       "        [33.39592624+0.j],\n",
       "        [33.26706636+0.j],\n",
       "        [33.14004198+0.j],\n",
       "        [32.98775362+0.j],\n",
       "        [33.51274412+0.j],\n",
       "        [33.23725829+0.j],\n",
       "        [33.79554045+0.j]]),\n",
       " 'modes': array([[ 6252],\n",
       "        [ 8843],\n",
       "        [11583],\n",
       "        [14971],\n",
       "        [18627],\n",
       "        [22604],\n",
       "        [27363],\n",
       "        [31999],\n",
       "        [37187],\n",
       "        [43243],\n",
       "        [48555],\n",
       "        [48342],\n",
       "        [43702],\n",
       "        [38866],\n",
       "        [32550],\n",
       "        [26310],\n",
       "        [18546],\n",
       "        [11033],\n",
       "        [ 6098]], dtype=int32)}"
      ]
     },
     "execution_count": 10,
     "metadata": {},
     "output_type": "execute_result"
    }
   ],
   "source": [
    "power"
   ]
  }
 ],
 "metadata": {
  "kernelspec": {
   "display_name": "C++",
   "language": "python",
   "name": "python3"
  },
  "language_info": {
   "codemirror_mode": {
    "name": "ipython",
    "version": 3
   },
   "file_extension": ".py",
   "mimetype": "text/x-python",
   "name": "python",
   "nbconvert_exporter": "python",
   "pygments_lexer": "ipython3",
   "version": "3.9.15"
  }
 },
 "nbformat": 4,
 "nbformat_minor": 2
}
