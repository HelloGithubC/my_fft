{
 "cells": [
  {
   "cell_type": "code",
   "execution_count": 1,
   "metadata": {},
   "outputs": [],
   "source": [
    "%reload_ext autoreload\n",
    "%autoreload 2"
   ]
  },
  {
   "cell_type": "code",
   "execution_count": 1,
   "metadata": {},
   "outputs": [],
   "source": [
    "import numpy as np \n",
    "from my_fft import FFTPower, Mesh "
   ]
  },
  {
   "cell_type": "markdown",
   "metadata": {},
   "source": [
    "### Load Data "
   ]
  },
  {
   "cell_type": "code",
   "execution_count": 2,
   "metadata": {},
   "outputs": [
    {
     "name": "stdout",
     "output_type": "stream",
     "text": [
      "(100000,)\n",
      "[('Position', '<f8', (3,)), ('Weight', '<f8')]\n"
     ]
    }
   ],
   "source": [
    "data = np.load(\"test_data.pkl.npy\")\n",
    "print(data.shape)\n",
    "print(data.dtype)"
   ]
  },
  {
   "cell_type": "markdown",
   "metadata": {},
   "source": [
    "### Do cic and FFT with compensating filter"
   ]
  },
  {
   "cell_type": "code",
   "execution_count": 3,
   "metadata": {},
   "outputs": [],
   "source": [
    "mesh = Mesh(Nmesh=100, BoxSize=1000.0)\n",
    "cic_mesh = mesh.run_cic(data, weight=\"Weight\", norm=False, nthreads=3) # For PS of overdensity, you can set norm=True\n",
    "mesh_complex = mesh.r2c(cic_mesh, compensated=True, nthreads=2)"
   ]
  },
  {
   "cell_type": "code",
   "execution_count": 4,
   "metadata": {},
   "outputs": [
    {
     "data": {
      "text/plain": [
       "{'Nmesh': array([100, 100, 100], dtype=int32),\n",
       " 'BoxSize': array([1000., 1000., 1000.]),\n",
       " 'N': 100000,\n",
       " 'W': 49926.69584217917,\n",
       " 'W2': 33220.87005622538,\n",
       " 'shotnoise': 13327.39752263791,\n",
       " 'num_per_cell': 0.049926695842179174,\n",
       " 'compensated': True}"
      ]
     },
     "execution_count": 4,
     "metadata": {},
     "output_type": "execute_result"
    }
   ],
   "source": [
    "mesh.attrs"
   ]
  },
  {
   "cell_type": "markdown",
   "metadata": {},
   "source": [
    "### Calculate FFTPower with 1d(Pk) and 2d(Pkmu)"
   ]
  },
  {
   "cell_type": "code",
   "execution_count": 5,
   "metadata": {},
   "outputs": [],
   "source": [
    "fftpower = FFTPower(Nmesh=100, BoxSize=1000.0, shotnoise=mesh.attrs[\"shotnoise\"]) # Nmesh and BoxSize you need keep the same as Mesh you used"
   ]
  },
  {
   "cell_type": "code",
   "execution_count": 8,
   "metadata": {},
   "outputs": [
    {
     "name": "stdout",
     "output_type": "stream",
     "text": [
      "True True\n",
      "Warning: run_ps_3d is force set to False because you have run runPS3D before\n"
     ]
    }
   ],
   "source": [
    "power = fftpower.run(mesh_complex, kmin=0.1, kmax=0.5, dk=0.02, mode=\"1d\", nthreads=2, Nmu=5, run_ps_3d=True) # mode can be 1d and 2d. run_ps_3d should be set True at once. If you run fftpower on the same complex field, such as call fftpower.runPS3D before, you must set run_ps_3d=False"
   ]
  },
  {
   "cell_type": "code",
   "execution_count": 7,
   "metadata": {},
   "outputs": [
    {
     "data": {
      "text/plain": [
       "True"
      ]
     },
     "execution_count": 7,
     "metadata": {},
     "output_type": "execute_result"
    }
   ],
   "source": [
    "fftpower.is_run_ps_3d"
   ]
  },
  {
   "cell_type": "code",
   "execution_count": 11,
   "metadata": {},
   "outputs": [],
   "source": [
    "# You can save and load fftpower with methods: save and load. Note that \"load\" is a class method.\n",
    "# fftpower.save(\"test_power_1D.pkl\")\n",
    "fftpower_check = FFTPower.load(\"test_power_1D_check.pkl\")"
   ]
  },
  {
   "cell_type": "code",
   "execution_count": 9,
   "metadata": {},
   "outputs": [
    {
     "data": {
      "text/plain": [
       "array([[33.23062651+0.j],\n",
       "       [33.09789983+0.j],\n",
       "       [33.23244369+0.j],\n",
       "       [32.89105631+0.j],\n",
       "       [33.24854718+0.j],\n",
       "       [33.24793627+0.j],\n",
       "       [33.50166451+0.j],\n",
       "       [33.10905697+0.j],\n",
       "       [32.89698503+0.j],\n",
       "       [33.10298633+0.j],\n",
       "       [33.28094685+0.j],\n",
       "       [33.15231079+0.j],\n",
       "       [33.39592625+0.j],\n",
       "       [33.26706628+0.j],\n",
       "       [33.1400421 +0.j],\n",
       "       [32.98775348+0.j],\n",
       "       [33.51274413+0.j],\n",
       "       [33.23725829+0.j],\n",
       "       [33.79554019+0.j]])"
      ]
     },
     "execution_count": 9,
     "metadata": {},
     "output_type": "execute_result"
    }
   ],
   "source": [
    "power[\"Pk\"]"
   ]
  },
  {
   "cell_type": "code",
   "execution_count": 12,
   "metadata": {},
   "outputs": [
    {
     "data": {
      "text/plain": [
       "dtype('complex128')"
      ]
     },
     "execution_count": 12,
     "metadata": {},
     "output_type": "execute_result"
    }
   ],
   "source": [
    "fftpower_check.power[\"Pk\"].dtype"
   ]
  },
  {
   "cell_type": "code",
   "execution_count": null,
   "metadata": {},
   "outputs": [],
   "source": []
  }
 ],
 "metadata": {
  "kernelspec": {
   "display_name": "xiaoliang",
   "language": "python",
   "name": "python3"
  },
  "language_info": {
   "codemirror_mode": {
    "name": "ipython",
    "version": 3
   },
   "file_extension": ".py",
   "mimetype": "text/x-python",
   "name": "python",
   "nbconvert_exporter": "python",
   "pygments_lexer": "ipython3",
   "version": "3.10.0"
  }
 },
 "nbformat": 4,
 "nbformat_minor": 2
}
